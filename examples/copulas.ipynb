{
 "cells": [
  {
   "cell_type": "code",
   "execution_count": 95,
   "metadata": {
    "vscode": {
     "languageId": "r"
    }
   },
   "outputs": [],
   "source": [
    "library(dplyr)\n",
    "library(tidyr)\n",
    "library(stringr)\n",
    "library(copula)\n",
    "library(ggplot2)"
   ]
  },
  {
   "cell_type": "markdown",
   "metadata": {},
   "source": [
    "### Ex 1: Archimedean and Elliptical Copulas"
   ]
  },
  {
   "cell_type": "code",
   "execution_count": 96,
   "metadata": {
    "vscode": {
     "languageId": "r"
    }
   },
   "outputs": [],
   "source": [
    "# time period in years\n",
    "T.years <- 3\n",
    "t.freq <- \"daily\""
   ]
  },
  {
   "cell_type": "code",
   "execution_count": 97,
   "metadata": {
    "vscode": {
     "languageId": "r"
    }
   },
   "outputs": [
    {
     "data": {
      "text/html": [
       "<style>\n",
       ".list-inline {list-style: none; margin:0; padding: 0}\n",
       ".list-inline>li {display: inline-block}\n",
       ".list-inline>li:not(:last-child)::after {content: \"\\00b7\"; padding: 0 .5ex}\n",
       "</style>\n",
       "<ol class=list-inline><li>'SPY'</li><li>'XLY'</li><li>'XLP'</li><li>'XLE'</li><li>'XLF'</li><li>'XLV'</li><li>'XLI'</li><li>'XLB'</li><li>'XLK'</li><li>'XLU'</li></ol>\n"
      ],
      "text/latex": [
       "\\begin{enumerate*}\n",
       "\\item 'SPY'\n",
       "\\item 'XLY'\n",
       "\\item 'XLP'\n",
       "\\item 'XLE'\n",
       "\\item 'XLF'\n",
       "\\item 'XLV'\n",
       "\\item 'XLI'\n",
       "\\item 'XLB'\n",
       "\\item 'XLK'\n",
       "\\item 'XLU'\n",
       "\\end{enumerate*}\n"
      ],
      "text/markdown": [
       "1. 'SPY'\n",
       "2. 'XLY'\n",
       "3. 'XLP'\n",
       "4. 'XLE'\n",
       "5. 'XLF'\n",
       "6. 'XLV'\n",
       "7. 'XLI'\n",
       "8. 'XLB'\n",
       "9. 'XLK'\n",
       "10. 'XLU'\n",
       "\n",
       "\n"
      ],
      "text/plain": [
       " [1] \"SPY\" \"XLY\" \"XLP\" \"XLE\" \"XLF\" \"XLV\" \"XLI\" \"XLB\" \"XLK\" \"XLU\""
      ]
     },
     "metadata": {},
     "output_type": "display_data"
    }
   ],
   "source": [
    "# sector ETF, SPY data\n",
    "getSymbols(c(\n",
    "  \"SPY\",  # S&P 500\n",
    "  \"XLY\",  # Consumer Discretionary\n",
    "  \"XLP\",  # Consumer Staples\n",
    "  \"XLE\",  # Energy\n",
    "  \"XLF\",  # Financials\n",
    "  \"XLV\",  # Healthcare\n",
    "  \"XLI\",  # Industrials\n",
    "  \"XLB\",  # Materials\n",
    "  \"XLK\",  # Technology\n",
    "  \"XLU\"   # Utilities\n",
    "), from = Sys.Date() - 365 * T.years)\n",
    "\n",
    "merged_data <- na.omit(merge.xts(\n",
    "  Ad(SPY),\n",
    "  Ad(XLY),\n",
    "  Ad(XLP),\n",
    "  Ad(XLE),\n",
    "  Ad(XLF),\n",
    "  Ad(XLV),\n",
    "  Ad(XLI),\n",
    "  Ad(XLB),\n",
    "  Ad(XLK),\n",
    "  Ad(XLU)\n",
    "))\n",
    "\n",
    "# column names\n",
    "colnames(merged_data) <- c(\n",
    "  \"SP500\",\n",
    "  \"ConsumerDisc\",\n",
    "  \"ConsumerStaples\",\n",
    "  \"Energy\",\n",
    "  \"Financials\",\n",
    "  \"Healthcare\",\n",
    "  \"Industrials\",\n",
    "  \"Materials\",\n",
    "  \"Technology\",\n",
    "  \"Utilities\"\n",
    ")\n",
    "\n",
    "\n",
    "# get returns dataframe\n",
    "returns_data <- merged_data %>%\n",
    "  fortify.zoo() %>%\n",
    "  pivot_longer(-Index, names_to = \"Asset\", values_to = \"Price\") %>%\n",
    "  group_by(Asset) %>%\n",
    "  tq_transmute(\n",
    "    select = Price,\n",
    "    mutate_fun = periodReturn,\n",
    "    period = t.freq,\n",
    "    type = \"log\",\n",
    "    col_rename = \"Return\"\n",
    "  ) %>%\n",
    "  pivot_wider(names_from = Asset, values_from = Return)"
   ]
  },
  {
   "cell_type": "code",
   "execution_count": 98,
   "metadata": {
    "vscode": {
     "languageId": "r"
    }
   },
   "outputs": [
    {
     "name": "stdout",
     "output_type": "stream",
     "text": [
      "[1] \"N =  752\"\n"
     ]
    }
   ],
   "source": [
    "# pairs to analyze\n",
    "pairs <- list(\n",
    "  returns_data[, c(\"SP500\", \"Financials\")],\n",
    "  returns_data[, c(\"SP500\", \"Technology\")],\n",
    "  returns_data[, c(\"SP500\", \"Energy\")],\n",
    "  returns_data[, c(\"Financials\", \"Technology\")],\n",
    "  returns_data[, c(\"Technology\", \"Energy\")],\n",
    "  returns_data[, c(\"Financials\", \"Energy\")]\n",
    ")\n",
    "\n",
    "# copula models to compare\n",
    "copulas <- list(\n",
    "  \"Clayton\" = claytonCopula(),\n",
    "  \"Gumbel\" = gumbelCopula(),\n",
    "  \"Frank\" = frankCopula(),\n",
    "  \"Gaussian\" = normalCopula(),\n",
    "  \"t\" = tCopula()\n",
    ")\n",
    "\n",
    "# sample size\n",
    "print(paste(\"N = \", nrow(returns_data)))"
   ]
  },
  {
   "cell_type": "code",
   "execution_count": null,
   "metadata": {
    "vscode": {
     "languageId": "r"
    }
   },
   "outputs": [],
   "source": [
    "n <- length(pairs)\n",
    "dev.off()\n",
    "png(\"copulas.png\", width = 600 * 7, height = 600 * n + 5, res = 200)\n",
    "options(repr.plot.width = 9, repr.plot.height = 21)\n",
    "par(mfrow = c(n, 7), mar = c(4.5, 4.5, 2.2, 2.2), oma = c(0, 0, 4, 5))\n",
    "\n",
    "par(\n",
    "  bg = \"gray97\",\n",
    "  col.axis = \"gray30\",\n",
    "  col.lab = \"gray20\",\n",
    "  col.main = \"black\",\n",
    "  bty = \"n\",\n",
    "  family = \"sans\"\n",
    ")\n",
    "\n",
    "summary <- data.frame(\n",
    "  Pair = character(),\n",
    "  Copula = character(),\n",
    "  Parameter = numeric(),\n",
    "  LogLik = numeric(),\n",
    "  AIC = numeric(),\n",
    "  TailProb = numeric()\n",
    ")\n",
    "\n",
    "for (i in seq_along(pairs)) {\n",
    "  pair <- pairs[[i]]\n",
    "  x <- do.call(c, pair[, 1])\n",
    "  y <- do.call(c, pair[, 2])\n",
    "  u.x <- rank(x) / (length(x) + 1)\n",
    "  u.y <- rank(y) / (length(y) + 1)\n",
    "\n",
    "  plot(x, y, title(paste(\"Scatter Plot:\\n\",\n",
    "                         colnames(pair)[1], \"and\", colnames(pair)[2])))\n",
    "  plot(u.x, u.y, title(paste(\"Empirical Copula:\\n\",\n",
    "                             colnames(pair)[1], \"and\", colnames(pair)[2])))\n",
    "\n",
    "  for (cop_name in names(copulas)) {\n",
    "    copula <- copulas[[cop_name]]\n",
    "    fitted_copula <- fitCopula(copula, cbind(u.x, u.y), method = \"ml\")\n",
    "    if (cop_name == \"t\") {\n",
    "      fitted_copula@copula@parameters[2] <-\n",
    "        round(fitted_copula@copula@parameters[2])\n",
    "        fitted_copula@estimate <- round(fitted_copula@estimate[2], 2)\n",
    "    }\n",
    "\n",
    "    u_hat <- rCopula(length(x), fitted_copula@copula)\n",
    "    u_hat.x <- u_hat[, 1]\n",
    "    u_hat.y <- u_hat[, 2]\n",
    "\n",
    "\n",
    "    # summary\n",
    "    tail_prob_5 <- round(pCopula(c(0.05, 0.05),\n",
    "                                 copula = fitted_copula@copula), 5)\n",
    "    tail_prob_1 <- round(pCopula(c(0.01, 0.01),\n",
    "                                 copula = fitted_copula@copula), 5)\n",
    "    summary <- rbind(\n",
    "      summary,\n",
    "      data.frame(\n",
    "        Pair = paste(colnames(pair)[1], \"and\", colnames(pair)[2]),\n",
    "        Copula = cop_name,\n",
    "        Parameter = fitted_copula@estimate,\n",
    "        LogLik = fitted_copula@loglik,\n",
    "        AIC = AIC(fitted_copula),\n",
    "        \"TailProb5\" = tail_prob_5,\n",
    "        \"TailProb1\" = tail_prob_1\n",
    "      )\n",
    "    )\n",
    "\n",
    "    # plot empirical and estimated copulas\n",
    "    plot(u_hat.x, u_hat.y, title(paste(\"Simulated \", cop_name, \" Copula:\\n\",\n",
    "                                       colnames(pair)[1],\n",
    "                                       \"and\", colnames(pair)[2])))\n",
    "\n",
    "    mtext(\"Empirical and Estimated Copulas\",\n",
    "          side = 3, line = 0.5, cex = 1.5, font = 2, outer = TRUE)\n",
    "  }\n",
    "}"
   ]
  },
  {
   "cell_type": "code",
   "execution_count": null,
   "metadata": {
    "vscode": {
     "languageId": "r"
    }
   },
   "outputs": [],
   "source": [
    "# summary table\n",
    "dev.off()\n",
    "png(\"summary.png\", width = 1400, height = 700 * n / 3, res = 150)\n",
    "summary <- summary[order(-rank(summary$Pair), summary$AIC), ]\n",
    "colnames(summary)[colnames(summary) == \"TailProb5\"] <- \"TailProb (5%)\"\n",
    "colnames(summary)[colnames(summary) == \"TailProb1\"] <- \"TailProb (1%)\"\n",
    "row.names(summary) <- NULL\n",
    "grid.table(summary)\n",
    "dev.off()"
   ]
  }
 ],
 "metadata": {
  "kernelspec": {
   "display_name": "R",
   "language": "R",
   "name": "ir"
  },
  "language_info": {
   "codemirror_mode": "r",
   "file_extension": ".r",
   "mimetype": "text/x-r-source",
   "name": "R",
   "pygments_lexer": "r",
   "version": "4.4.2"
  }
 },
 "nbformat": 4,
 "nbformat_minor": 2
}
